{
  "nbformat": 4,
  "nbformat_minor": 0,
  "metadata": {
    "colab": {
      "name": "baseline scores after preproc.ipynb",
      "provenance": [],
      "collapsed_sections": [
        "lR2ZsqmUhyy_",
        "pTOICCYBhMPv",
        "zi70-0JvkaRL",
        "K0SUtwP2k-o8",
        "FrUavbgmlwkO",
        "PepwrXIdliet",
        "6D0LMUOblwX-",
        "YtlsQC67lweF",
        "oufJpwfey3EV"
      ]
    },
    "kernelspec": {
      "name": "python3",
      "display_name": "Python 3"
    },
    "language_info": {
      "name": "python"
    }
  },
  "cells": [
    {
      "cell_type": "markdown",
      "source": [
        "Previous notebook, _\"preprocessing.ipynb\"_ completed steps:\n",
        "1. Initial data adjustments\n",
        "2. Preprocessing"
      ],
      "metadata": {
        "id": "QfeK_ccuZtT3"
      }
    },
    {
      "cell_type": "markdown",
      "source": [
        "# setup"
      ],
      "metadata": {
        "id": "lR2ZsqmUhyy_"
      }
    },
    {
      "cell_type": "code",
      "source": [
        "# script for standard imports\n",
        "%run '/content/drive/MyDrive/Data_Science/scripts/setup.ipynb'\n",
        "\n",
        "# read-in preprocessed trainx set, \"trx_preproc\"\n",
        "trx_preproc = \\\n",
        "pd.read_csv('/content/drive/MyDrive/Data_Science/data/gtd/trx_preproc.csv')\n",
        "\n",
        "trainy = \\\n",
        "pd.read_csv('/content/drive/MyDrive/Data_Science/data/gtd/trainy.csv')"
      ],
      "metadata": {
        "id": "1s2jkX42hx3V"
      },
      "execution_count": null,
      "outputs": []
    },
    {
      "cell_type": "markdown",
      "source": [
        "# Establish Baseline scores \n",
        "_(on numeric/categoric only)_"
      ],
      "metadata": {
        "id": "mwgozESAnE1w"
      }
    },
    {
      "cell_type": "code",
      "execution_count": null,
      "metadata": {
        "id": "fSrGMmrRddBj",
        "colab": {
          "base_uri": "https://localhost:8080/"
        },
        "outputId": "cd5d6f91-b520-44db-e443-6f6a07c9991d"
      },
      "outputs": [
        {
          "output_type": "stream",
          "name": "stdout",
          "text": [
            "      X (train) type: <class 'numpy.ndarray'>\n",
            "      X shape: (153171, 37)\n",
            "\n",
            "            y (train) type: <class 'numpy.ndarray'>\n",
            "      y shape: (153171,)\n"
          ]
        }
      ],
      "source": [
        "# check types/shapes of X/y\n",
        "print(f'\\\n",
        "      X (train) type: {type(trx_preproc)}\\n\\\n",
        "      X shape: {trx_preproc.shape}\\n\\n\\\n",
        "      \\\n",
        "      y (train) type: {type(trainy.values)}\\n\\\n",
        "      y shape: {trainy.values.shape}')"
      ]
    },
    {
      "cell_type": "code",
      "execution_count": null,
      "metadata": {
        "id": "cCfSCa99f_ts"
      },
      "outputs": [],
      "source": [
        "all_clf_models = [LogisticRegression(random_state=33,n_jobs=-1),\n",
        "                  DecisionTreeClassifier(random_state=33),\n",
        "                  RandomForestClassifier(random_state=33,n_jobs=-1),\n",
        "                  KNeighborsClassifier(n_jobs=-1),\n",
        "                  LinearSVC(random_state=33),\n",
        "                  SVC(random_state=33), #try svc = SVC(probability=True)\n",
        "                  MultinomialNB(),\n",
        "                  SGDClassifier(random_state=33,n_jobs=-1),\n",
        "                  GradientBoostingClassifier(random_state=33)]\n",
        "\n",
        "lr,tree,forest,knn,linsvc,svc,multi_nb,sgd,gboost = \\\n",
        "                        all_clf_models[0],all_clf_models[1],\\\n",
        "                        all_clf_models[2],all_clf_models[3],\\\n",
        "                        all_clf_models[4],all_clf_models[5],\\\n",
        "                        all_clf_models[6],all_clf_models[7],\\\n",
        "                        all_clf_models[8]\n",
        "\n",
        "# classification scoring metrics (loss funcs?)\n",
        "clf_metrics = [accuracy_score,precision_score,recall_score,f1_score]\n",
        "\n",
        "# for custom function `train_predict_eval`\n",
        "clf_models = [lr,tree,forest,sgd]"
      ]
    },
    {
      "cell_type": "markdown",
      "metadata": {
        "id": "pTOICCYBhMPv"
      },
      "source": [
        "### **Logisitic Regression Classifier**"
      ]
    },
    {
      "cell_type": "code",
      "execution_count": null,
      "metadata": {
        "id": "svq6r2rofICr",
        "colab": {
          "base_uri": "https://localhost:8080/"
        },
        "outputId": "6f966880-8535-4d3d-8232-2316008f7838"
      },
      "outputs": [
        {
          "output_type": "execute_result",
          "data": {
            "text/plain": [
              "'f1'"
            ],
            "application/vnd.google.colaboratory.intrinsic+json": {
              "type": "string"
            }
          },
          "metadata": {},
          "execution_count": 32
        }
      ],
      "source": [
        "'''# # Linear Regresion: y = mx+b'''\n",
        "# lr.fit(trx_preproc, trainy.values)\n",
        "# lr_preds = lr.predict(trx_preproc)\n",
        "\n",
        "'''accruacy'''\n",
        "# ac_score = accuracy_score(trainy, lr_preds)\n",
        "# display(ac_score)\n",
        "\n",
        "# #accuracy evaluation w/ cv on lr\n",
        "# cv_acc_score = cross_val_score(\n",
        "#                 lr,trx_preproc,trainy,\n",
        "#                 cv=5,scoring='accuracy')\n",
        "# display(cv_acc_score)\n",
        "'''precision'''\n",
        "# pr_score = precision_score(trainy, lr_preds)\n",
        "# display(pr_score)\n",
        "\n",
        "# cv_prec_score = cross_val_score(\n",
        "#     lr, trx_preproc, trainy, cv=5, scoring='precision')\n",
        "# display(cv_prec_score)\n",
        "'''recall'''\n",
        "# re_score = recall_score(trainy, lr_preds)\n",
        "# display(re_score)\n",
        "\n",
        "# cv_rec_score = cross_val_score(\n",
        "#     lr, trx_preproc, trainy, cv=5, scoring='recall')\n",
        "# display(cv_rec_score)\n",
        "'''f1'''\n",
        "# f1_score_ = f1_score(trainy, lr_preds)\n",
        "# display(f1_score_)\n",
        "\n",
        "# cv_f1_score = cross_val_score(\n",
        "#     lr, trx_preproc, trainy, cv=5, scoring='f1')\n",
        "\n",
        "# cv_f1_score"
      ]
    },
    {
      "cell_type": "markdown",
      "metadata": {
        "id": "xjLFQcDCf_Jr"
      },
      "source": [
        "**103 seconds**\n",
        "\n",
        "    array([1, 1, 0, 1, 1, 1, 1, 0, 1, 0, 0, 1, 1, 1, 1, 1, 1, 1, 1, 1])\n",
        "    array([1, 1, 1, 1, 1, 1, 1, 1, 1, 1, 1, 1, 1, 1, 1, 1, 1, 1, 1, 1])\n",
        "    0.8868650070835863\n",
        "    array([0.88695936, 0.8868251 , 0.88685774, 0.88679245, 0.88702096])\n",
        "    0.8869970152373114\n",
        "    array([0.88702041, 0.88695141, 0.88698037, 0.88694772, 0.8870241 ])\n",
        "    0.9998012308960805\n",
        "    array([0.99988958, 0.99981595, 0.99981595, 0.99977914, 0.99996319])"
      ]
    },
    {
      "cell_type": "markdown",
      "metadata": {
        "id": "zi70-0JvkaRL"
      },
      "source": [
        "### Decision Tree"
      ]
    },
    {
      "cell_type": "code",
      "execution_count": null,
      "metadata": {
        "id": "URPp4EFpkd3r",
        "colab": {
          "base_uri": "https://localhost:8080/"
        },
        "outputId": "6c2ecb06-e33a-42dc-8b97-cae58e7a68ef"
      },
      "outputs": [
        {
          "output_type": "execute_result",
          "data": {
            "text/plain": [
              "'f1'"
            ],
            "application/vnd.google.colaboratory.intrinsic+json": {
              "type": "string"
            }
          },
          "metadata": {},
          "execution_count": 33
        }
      ],
      "source": [
        "# tree.fit(trx_preproc, trainy.values)\n",
        "# tree_preds = tree.predict(trx_preproc)\n",
        "'''accruacy'''\n",
        "# ac_score = accuracy_score(trainy, tree_preds)\n",
        "# display(ac_score)\n",
        "\n",
        "# cv_acc_score = cross_val_score(\n",
        "#     tree, trx_preproc, trainy, cv=5, scoring='accuracy')\n",
        "# display(cv_acc_score)\n",
        "'''precision'''\n",
        "# pr_score = precision_score(trainy, tree_preds)\n",
        "# display(pr_score)\n",
        "\n",
        "# cv_prec_score = cross_val_score(\n",
        "#     tree, trx_preproc, trainy, cv=5, scoring='precision')\n",
        "# display(cv_prec_score)\n",
        "'''recall'''\n",
        "# re_score = recall_score(trainy, tree_preds)\n",
        "# display(re_score)\n",
        "\n",
        "# cv_rec_score = cross_val_score(\n",
        "#     tree, trx_preproc, trainy, cv=5, scoring='recall')\n",
        "# cv_rec_score\n",
        "'''f1'''\n",
        "# tree_cv_f1_score = cross_val_score(\n",
        "#     tree, trx_preproc, trainy, cv=5, scoring='f1')\n",
        "\n",
        "# tree_cv_f1_score"
      ]
    },
    {
      "cell_type": "markdown",
      "metadata": {
        "id": "FmFygjjAf7mL"
      },
      "source": [
        "**18 seconds**"
      ]
    },
    {
      "cell_type": "markdown",
      "metadata": {
        "id": "K0SUtwP2k-o8"
      },
      "source": [
        "### forest"
      ]
    },
    {
      "cell_type": "code",
      "execution_count": null,
      "metadata": {
        "id": "yiTC_nkplANk",
        "colab": {
          "base_uri": "https://localhost:8080/"
        },
        "outputId": "95428559-6bb9-49c5-ca86-a8fb2399d4e6"
      },
      "outputs": [
        {
          "output_type": "execute_result",
          "data": {
            "text/plain": [
              "'f1'"
            ],
            "application/vnd.google.colaboratory.intrinsic+json": {
              "type": "string"
            }
          },
          "metadata": {},
          "execution_count": 34
        }
      ],
      "source": [
        "# forest.fit(trx_preproc, trainy.values)\n",
        "# forest_preds = forest.predict(trx_preproc)\n",
        "'''accruacy'''\n",
        "# ac_score = accuracy_score(trainy, forest_preds)\n",
        "# display(ac_score)\n",
        "\n",
        "# cv_acc_score = cross_val_score(\n",
        "#     forest, trx_preproc, trainy, cv=5, scoring='accuracy')\n",
        "# display(cv_acc_score)\n",
        "'''precision'''\n",
        "# pr_score = precision_score(trainy, forest_preds)\n",
        "# display(pr_score)\n",
        "\n",
        "# cv_prec_score = cross_val_score(\n",
        "#     forest, trx_preproc, trainy, cv=5, scoring='precision')\n",
        "# display(cv_prec_score)\n",
        "'''recall'''\n",
        "# re_score = recall_score(trainy, forest_preds)\n",
        "# display(re_score)\n",
        "\n",
        "# cv_rec_score = cross_val_score(\n",
        "#     forest, trx_preproc, trainy, cv=5, scoring='recall')\n",
        "# cv_rec_score\n",
        "'''f1'''\n",
        "# forest_cv_f1_score = cross_val_score(\n",
        "#     forest, trx_preproc, trainy, cv=5, scoring='f1')\n",
        "\n",
        "# forest_cv_f1_score"
      ]
    },
    {
      "cell_type": "markdown",
      "metadata": {
        "id": "5kaYySG1f4bj"
      },
      "source": [
        "**252 seconds** (4min)"
      ]
    },
    {
      "cell_type": "markdown",
      "metadata": {
        "id": "FrUavbgmlwkO"
      },
      "source": [
        "### SGD"
      ]
    },
    {
      "cell_type": "code",
      "execution_count": null,
      "metadata": {
        "id": "WiMOce2hd2Li",
        "colab": {
          "base_uri": "https://localhost:8080/"
        },
        "outputId": "70c5e59c-7a6d-4a73-9763-d11891943544"
      },
      "outputs": [
        {
          "output_type": "execute_result",
          "data": {
            "text/plain": [
              "'f1'"
            ],
            "application/vnd.google.colaboratory.intrinsic+json": {
              "type": "string"
            }
          },
          "metadata": {},
          "execution_count": 35
        }
      ],
      "source": [
        "# sgd.fit(trx_preproc, trainy.values)\n",
        "# sgd_preds = sgd.predict(trx_preproc)\n",
        "'''accruacy'''\n",
        "# ac_score = accuracy_score(trainy, sgd_preds)\n",
        "# display(ac_score)\n",
        "\n",
        "# cv_acc_score = cross_val_score(\n",
        "#     sgd, trx_preproc, trainy, cv=5, scoring='accuracy')\n",
        "# display(cv_acc_score)\n",
        "'''precision'''\n",
        "# pr_score = precision_score(trainy, sgd_preds)\n",
        "# display(pr_score)\n",
        "\n",
        "# cv_prec_score = cross_val_score(\n",
        "#     sgd, trx_preproc, trainy, cv=5, scoring='precision')\n",
        "# display(cv_prec_score)\n",
        "'''recall'''\n",
        "# re_score = recall_score(trainy, sgd_preds)\n",
        "# display(re_score)\n",
        "\n",
        "# cv_rec_score = cross_val_score(\n",
        "#     sgd, trx_preproc, trainy, cv=5, scoring='recall')\n",
        "# cv_rec_score\n",
        "'''f1'''\n",
        "# sgd_cv_f1_score = cross_val_score(\n",
        "#     sgd, trx_preproc, trainy, cv=5, scoring='f1')\n",
        "\n",
        "# sgd_cv_f1_score"
      ]
    },
    {
      "cell_type": "markdown",
      "metadata": {
        "id": "0UyfXjh-fkrj"
      },
      "source": [
        "**34 seconds**"
      ]
    },
    {
      "cell_type": "markdown",
      "metadata": {
        "id": "PepwrXIdliet"
      },
      "source": [
        "### knn"
      ]
    },
    {
      "cell_type": "code",
      "execution_count": null,
      "metadata": {
        "id": "Rf3xiVb4llld",
        "colab": {
          "base_uri": "https://localhost:8080/"
        },
        "outputId": "8b3a1486-ae4c-4caa-bfd6-e3def362b46f"
      },
      "outputs": [
        {
          "output_type": "execute_result",
          "data": {
            "text/plain": [
              "'f1'"
            ],
            "application/vnd.google.colaboratory.intrinsic+json": {
              "type": "string"
            }
          },
          "metadata": {},
          "execution_count": 36
        }
      ],
      "source": [
        "# knn.fit(trx_preproc, trainy.values)\n",
        "# knn_preds = knn.predict(trx_preproc)\n",
        "# display(trainy[:20].values)\n",
        "# display(knn_preds[:20])\n",
        "'''accruacy'''\n",
        "'''precision'''\n",
        "'''recall'''\n",
        "'''f1'''\n",
        "# ac_score = accuracy_score(trainy, knn_preds)\n",
        "# display(ac_score)\n",
        "\n",
        "# cv_acc_score = cross_val_score(\n",
        "#     knn, trx_preproc, trainy, cv=5, scoring='accuracy')\n",
        "# display(cv_acc_score)\n",
        "'''accruacy'''\n",
        "'''precision'''\n",
        "'''recall'''\n",
        "'''f1'''\n",
        "# pr_score = precision_score(trainy, knn_preds)\n",
        "# display(pr_score)\n",
        "\n",
        "# cv_prec_score = cross_val_score(\n",
        "#     knn, trx_preproc, trainy, cv=5, scoring='precision')\n",
        "# display(cv_prec_score)\n",
        "'''accruacy'''\n",
        "'''precision'''\n",
        "'''recall'''\n",
        "'''f1'''\n",
        "# re_score = recall_score(trainy, knn_preds)\n",
        "# display(re_score)\n",
        "\n",
        "# cv_rec_score = cross_val_score(\n",
        "#     knn, trx_preproc, trainy, cv=5, scoring='recall')\n",
        "\n",
        "# cv_rec_score"
      ]
    },
    {
      "cell_type": "markdown",
      "metadata": {
        "id": "NoLPzNPxfuoM"
      },
      "source": [
        "**2362 seconds** (39min)\n"
      ]
    },
    {
      "cell_type": "markdown",
      "metadata": {
        "id": "6D0LMUOblwX-"
      },
      "source": [
        "### linSvc"
      ]
    },
    {
      "cell_type": "code",
      "execution_count": null,
      "metadata": {
        "id": "kiasuhJ2l54F"
      },
      "outputs": [],
      "source": [
        "# linsvc.fit(trx_preproc, trainy.values)\n",
        "# linsvc_preds = linsvc.predict(trx_preproc)\n",
        "# display(trainy[:20].values)\n",
        "# display(linsvc_preds[:20])\n",
        "\n",
        "# ac_score = accuracy_score(trainy, linsvc_preds)\n",
        "# display(ac_score)\n",
        "\n",
        "# cv_acc_score = cross_val_score(\n",
        "#     linsvc, trx_preproc, trainy, cv=5, scoring='accuracy')\n",
        "# display(cv_acc_score)\n",
        "\n",
        "# pr_score = precision_score(trainy, linsvc_preds)\n",
        "# display(pr_score)\n",
        "\n",
        "# cv_prec_score = cross_val_score(\n",
        "#     linsvc, trx_preproc, trainy, cv=5, scoring='precision')\n",
        "# display(cv_prec_score)\n",
        "\n",
        "# re_score = recall_score(trainy, linsvc_preds)\n",
        "# display(re_score)\n",
        "\n",
        "# cv_rec_score = cross_val_score(\n",
        "#     linsvc, trx_preproc, trainy, cv=5, scoring='recall')\n",
        "\n",
        "# cv_rec_score"
      ]
    },
    {
      "cell_type": "markdown",
      "metadata": {
        "id": "W9dWHh7JfpGt"
      },
      "source": [
        "**762 seconds** (12.7min)\n",
        "\n",
        "    array([1, 1, 0, 1, 1, 1, 1, 0, 1, 0, 0, 1, 1, 1, 1, 1, 1, 1, 1, 1])\n",
        "    array([1, 1, 1, 1, 1, 1, 1, 1, 1, 1, 1, 1, 1, 1, 1, 1, 1, 1, 1, 1])\n",
        "    0.8868062492247227\n",
        "    array([0.88673086, 0.88545407, 0.88675981, 0.88679245, 0.88675981])\n",
        "    0.8868236185103938\n",
        "    array([0.88684296, 0.88906065, 0.88681771, 0.8868214 , 0.88681771])\n",
        "    0.999977914544009\n",
        "    array([0.99985277, 0.99499393, 0.99992638, 0.99996319, 0.99992638])"
      ]
    },
    {
      "cell_type": "markdown",
      "metadata": {
        "id": "YtlsQC67lweF"
      },
      "source": [
        "### SVC"
      ]
    },
    {
      "cell_type": "code",
      "execution_count": null,
      "metadata": {
        "id": "yOo9tbpLgf8f",
        "colab": {
          "base_uri": "https://localhost:8080/"
        },
        "outputId": "819cc6e6-eb68-4106-df48-6f717f6774e6"
      },
      "outputs": [
        {
          "output_type": "execute_result",
          "data": {
            "text/plain": [
              "'had problems with memory \\n(took super long to execute, longer than all the below)'"
            ],
            "application/vnd.google.colaboratory.intrinsic+json": {
              "type": "string"
            }
          },
          "metadata": {},
          "execution_count": 38
        }
      ],
      "source": [
        "# %timeit\n",
        "# svc.fit(trx_preproc, trainy.values)\n",
        "# svc_preds = svc.predict(trx_preproc)\n",
        "# display(trainy[:20].values)\n",
        "# display(svc_preds[:20])\n",
        "# %timeit\n",
        "# ac_score = accuracy_score(trainy, svc_preds)\n",
        "# display(ac_score)\n",
        "# %timeit\n",
        "# cv_acc_score = cross_val_score(\n",
        "#     svc, trx_preproc, trainy, cv=5, scoring='accuracy')\n",
        "# display(cv_acc_score)\n",
        "# pr_score = precision_score(trainy, svc_preds)\n",
        "# display(pr_score)\n",
        "# cv_prec_score = cross_val_score(\n",
        "#     svc, trx_preproc, trainy, cv=5, scoring='precision')\n",
        "# display(cv_prec_score)\n",
        "# re_score = recall_score(trainy, svc_preds)\n",
        "# display(re_score)\n",
        "# cv_rec_score = cross_val_score(\n",
        "#     svc, trx_preproc, trainy, cv=5, scoring='recall')\n",
        "\n",
        "# cv_rec_score\n",
        "\n",
        "\"\"\"had problems with memory \n",
        "(took super long to execute, longer than all the below)\"\"\""
      ]
    },
    {
      "cell_type": "code",
      "execution_count": null,
      "metadata": {
        "id": "aIrL5h3vxugc",
        "colab": {
          "base_uri": "https://localhost:8080/"
        },
        "outputId": "5bf49ae0-0c6f-4e7f-dd0f-35f23f38e705"
      },
      "outputs": [
        {
          "output_type": "execute_result",
          "data": {
            "text/plain": [
              "'TRY:'"
            ],
            "application/vnd.google.colaboratory.intrinsic+json": {
              "type": "string"
            }
          },
          "metadata": {},
          "execution_count": 39
        }
      ],
      "source": [
        "\"\"\"TRY:\"\"\"\n",
        "# >>> svc = SVC(probability=True, random_state=33)"
      ]
    },
    {
      "cell_type": "markdown",
      "metadata": {
        "id": "oufJpwfey3EV"
      },
      "source": [
        "### MultiNomialNB"
      ]
    },
    {
      "cell_type": "code",
      "execution_count": null,
      "metadata": {
        "id": "XoQbWth2y8Qc",
        "colab": {
          "base_uri": "https://localhost:8080/"
        },
        "outputId": "dae2219c-99c5-493b-f759-0d8bc9c83d31"
      },
      "outputs": [
        {
          "output_type": "execute_result",
          "data": {
            "text/plain": [
              "'f1'"
            ],
            "application/vnd.google.colaboratory.intrinsic+json": {
              "type": "string"
            }
          },
          "metadata": {},
          "execution_count": 40
        }
      ],
      "source": [
        "# from sklearn.naive_bayes import MultinomialNB\n",
        "\n",
        "# multi_nb.fit(trx_preproc, trainy.values)\n",
        "# multi_nb_preds = multi_nb.predict(trx_preproc)\n",
        "\n",
        "'''accruacy'''\n",
        "# ac_score = accuracy_score(trainy, multi_nb_preds)\n",
        "# display(ac_score)\n",
        "\n",
        "# cv_acc_score = cross_val_score(\n",
        "#     multi_nb, trx_preproc, trainy, cv=5, scoring='accuracy')\n",
        "# display(cv_acc_score)\n",
        "\n",
        "'''precision'''\n",
        "# pr_score = precision_score(trainy, multi_nb_preds)\n",
        "# display(pr_score)\n",
        "\n",
        "# cv_prec_score = cross_val_score(\n",
        "#     multi_nb, trx_preproc, trainy, cv=5, scoring='precision')\n",
        "# display(cv_prec_score)\n",
        "\n",
        "'''recall'''\n",
        "# re_score = recall_score(trainy, multi_nb_preds)\n",
        "# display(re_score)\n",
        "\n",
        "# cv_rec_score = cross_val_score(\n",
        "#     multi_nb, trx_preproc, trainy, cv=5, scoring='recall')\n",
        "# cv_rec_score\n",
        "\n",
        "'''f1'''\n",
        "# multi_nb_cv_f1_score = cross_val_score(\n",
        "#     multi_nb, trx_preproc, trainy, cv=5, scoring='f1')\n",
        "\n",
        "# multi_nb_cv_f1_score"
      ]
    },
    {
      "cell_type": "markdown",
      "metadata": {
        "id": "2tFItB3xy_OE"
      },
      "source": [
        "### GradientBoostingClassifier"
      ]
    },
    {
      "cell_type": "code",
      "execution_count": null,
      "metadata": {
        "id": "84KNWw5Sy_R_",
        "colab": {
          "base_uri": "https://localhost:8080/"
        },
        "outputId": "500edff4-cf25-4916-f919-f4a25b8d0b30"
      },
      "outputs": [
        {
          "output_type": "execute_result",
          "data": {
            "text/plain": [
              "'f1'"
            ],
            "application/vnd.google.colaboratory.intrinsic+json": {
              "type": "string"
            }
          },
          "metadata": {},
          "execution_count": 41
        }
      ],
      "source": [
        "# from sklearn.ensemble import GradientBoostingClassifier\n",
        "\n",
        "# gboost.fit(trx_preproc, trainy.values)\n",
        "# gboost_preds = gboost.predict(trx_preproc)\n",
        "\n",
        "'''accruacy'''\n",
        "# ac_score = accuracy_score(trainy, gboost_preds)\n",
        "# display(ac_score)\n",
        "\n",
        "# cv_acc_score = cross_val_score(\n",
        "#     gboost, trx_preproc, trainy, cv=5, scoring='accuracy')\n",
        "# display(cv_acc_score)\n",
        "\n",
        "'''precision'''\n",
        "# pr_score = precision_score(trainy, multi_nb_preds)\n",
        "# display(pr_score)\n",
        "\n",
        "# cv_prec_score = cross_val_score(\n",
        "#     gboost, trx_preproc, trainy, cv=5, scoring='precision')\n",
        "# display(cv_prec_score)\n",
        "\n",
        "'''recall'''\n",
        "# re_score = recall_score(trainy, gboost_preds)\n",
        "# display(re_score)\n",
        "\n",
        "# cv_rec_score = cross_val_score(\n",
        "#     gboost, trx_preproc, trainy, cv=5, scoring='recall')\n",
        "# cv_rec_score\n",
        "\n",
        "'''f1'''\n",
        "# multi_nb_cv_f1_score = cross_val_score(\n",
        "#     gboost, trx_preproc, trainy, cv=5, scoring='f1')\n",
        "\n",
        "# gboost_cv_f1_score"
      ]
    },
    {
      "cell_type": "markdown",
      "source": [
        "# Next Steps"
      ],
      "metadata": {
        "id": "uyPJ1sF5cEwT"
      }
    },
    {
      "cell_type": "markdown",
      "source": [
        "data preparation (on _\"trx_preproc\"_) via transformations for machine learning (see, _\"data transformations.ipynb\"_). "
      ],
      "metadata": {
        "id": "U5e99y3Ubbk4"
      }
    }
  ]
}